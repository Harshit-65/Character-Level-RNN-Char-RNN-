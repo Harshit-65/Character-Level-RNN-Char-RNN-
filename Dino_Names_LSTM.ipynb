{
  "nbformat": 4,
  "nbformat_minor": 0,
  "metadata": {
    "colab": {
      "name": "Dino_Names_LSTM.ipynb",
      "provenance": [],
      "collapsed_sections": [
        "2JAJff_kmWRZ",
        "c6aA75JMnAxA",
        "pf2FwqMazDep",
        "wnIkM5fpmqTK",
        "85fplCqmmzMQ",
        "aIQUjAXtmFRD",
        "bBLP_fSQmNN4",
        "I9-KnRCAkFWj",
        "2ebuRAri6SGo",
        "e6ppQYYClidi",
        "cqjc59nUlpBN"
      ]
    },
    "kernelspec": {
      "name": "python3",
      "display_name": "Python 3"
    },
    "accelerator": "GPU"
  },
  "cells": [
    {
      "cell_type": "markdown",
      "metadata": {
        "id": "YeviwpDzOWQK",
        "colab_type": "text"
      },
      "source": [
        "<center>\n",
        "<a href=\"https://colab.research.google.com/drive/1lj7S2NaPa55rS-3X4yWlMj3-dy1EPEne?usp=sharing\"> <img align=\"center\" src=\"https://colab.research.google.com/assets/colab-badge.svg\"> </a></center>"
      ]
    },
    {
      "cell_type": "markdown",
      "metadata": {
        "id": "2JAJff_kmWRZ",
        "colab_type": "text"
      },
      "source": [
        "## Importing Required Libraries"
      ]
    },
    {
      "cell_type": "code",
      "metadata": {
        "id": "htIT7EgIaSQ2",
        "colab_type": "code",
        "colab": {}
      },
      "source": [
        "from io import open\n",
        "import matplotlib.pyplot as plt\n",
        "import numpy as np\n",
        "import random\n",
        "import time\n",
        "import torch\n",
        "import torch.nn as nn\n",
        "import torch.nn.functional as F\n",
        "import torch.optim as optim\n",
        "\n",
        "from google.colab import drive"
      ],
      "execution_count": null,
      "outputs": []
    },
    {
      "cell_type": "code",
      "metadata": {
        "id": "RlLcUWGRctg2",
        "colab_type": "code",
        "colab": {
          "base_uri": "https://localhost:8080/",
          "height": 34
        },
        "outputId": "15372349-ae6d-4f9c-dbfa-a7504347056f"
      },
      "source": [
        "device = torch.device(\"cuda\" if torch.cuda.is_available() else \"cpu\")\n",
        "print(\"Notebook is running on\", device)"
      ],
      "execution_count": null,
      "outputs": [
        {
          "output_type": "stream",
          "text": [
            "Notebook is running on cuda\n"
          ],
          "name": "stdout"
        }
      ]
    },
    {
      "cell_type": "markdown",
      "metadata": {
        "id": "c6aA75JMnAxA",
        "colab_type": "text"
      },
      "source": [
        "## Mounting G-Drive\n",
        "You can skip this cell if you don't plan to save the model and training plots. For sampling, you can download the pre-trained model."
      ]
    },
    {
      "cell_type": "code",
      "metadata": {
        "id": "VtZOccKHc8nQ",
        "colab_type": "code",
        "colab": {
          "base_uri": "https://localhost:8080/",
          "height": 34
        },
        "outputId": "7787efd2-59c3-47af-f973-75f23092806a"
      },
      "source": [
        "drive.mount(\"/content/gdrive\")"
      ],
      "execution_count": null,
      "outputs": [
        {
          "output_type": "stream",
          "text": [
            "Drive already mounted at /content/gdrive; to attempt to forcibly remount, call drive.mount(\"/content/gdrive\", force_remount=True).\n"
          ],
          "name": "stdout"
        }
      ]
    },
    {
      "cell_type": "markdown",
      "metadata": {
        "id": "pf2FwqMazDep",
        "colab_type": "text"
      },
      "source": [
        "## Fetching Data\n",
        "Use `!wget -O your_file_name.extension raw_link`\n",
        "\n",
        "To write contents from *raw_link* into *your_file_name.extension*."
      ]
    },
    {
      "cell_type": "code",
      "metadata": {
        "id": "3NHt1VnfooyF",
        "colab_type": "code",
        "colab": {
          "base_uri": "https://localhost:8080/",
          "height": 289
        },
        "outputId": "263513e3-6320-4512-ea7a-7b8dfa4d8a13"
      },
      "source": [
        "!wget -O Dino_Names.txt https://github.com/IvLabs/Natural-Language-Processing/raw/master/datasets/Dino_Names.txt"
      ],
      "execution_count": null,
      "outputs": [
        {
          "output_type": "stream",
          "text": [
            "--2020-07-09 14:25:31--  https://github.com/IvLabs/Natural-Language-Processing/raw/master/datasets/Dino_Names.txt\n",
            "Resolving github.com (github.com)... 140.82.114.4\n",
            "Connecting to github.com (github.com)|140.82.114.4|:443... connected.\n",
            "HTTP request sent, awaiting response... 302 Found\n",
            "Location: https://raw.githubusercontent.com/IvLabs/Natural-Language-Processing/master/datasets/Dino_Names.txt [following]\n",
            "--2020-07-09 14:25:31--  https://raw.githubusercontent.com/IvLabs/Natural-Language-Processing/master/datasets/Dino_Names.txt\n",
            "Resolving raw.githubusercontent.com (raw.githubusercontent.com)... 151.101.0.133, 151.101.64.133, 151.101.128.133, ...\n",
            "Connecting to raw.githubusercontent.com (raw.githubusercontent.com)|151.101.0.133|:443... connected.\n",
            "HTTP request sent, awaiting response... 200 OK\n",
            "Length: 19909 (19K) [text/plain]\n",
            "Saving to: ‘Dino_Names.txt’\n",
            "\n",
            "Dino_Names.txt      100%[===================>]  19.44K  --.-KB/s    in 0.01s   \n",
            "\n",
            "2020-07-09 14:25:32 (1.57 MB/s) - ‘Dino_Names.txt’ saved [19909/19909]\n",
            "\n"
          ],
          "name": "stdout"
        }
      ]
    },
    {
      "cell_type": "markdown",
      "metadata": {
        "id": "wnIkM5fpmqTK",
        "colab_type": "text"
      },
      "source": [
        "## Data Preprocessing"
      ]
    },
    {
      "cell_type": "code",
      "metadata": {
        "id": "GPy0VLxbdZJP",
        "colab_type": "code",
        "colab": {}
      },
      "source": [
        "FILE_NAME = \"Dino_Names.txt\"\n",
        "data = open(FILE_NAME).read().strip()\n",
        "data = data.lower()\n",
        "data = data.replace(\" \", \"\")\n",
        "data = data.replace(\"\\n\", \".\")"
      ],
      "execution_count": null,
      "outputs": []
    },
    {
      "cell_type": "code",
      "metadata": {
        "id": "CWPQ0665dkna",
        "colab_type": "code",
        "colab": {
          "base_uri": "https://localhost:8080/",
          "height": 34
        },
        "outputId": "d7f28562-6969-46ab-aa4b-2f2c4b4fe51e"
      },
      "source": [
        "print(data[:50])"
      ],
      "execution_count": null,
      "outputs": [
        {
          "output_type": "stream",
          "text": [
            "aachenosaurus.aardonyx.abdallahsaurus.abelisaurus.\n"
          ],
          "name": "stdout"
        }
      ]
    },
    {
      "cell_type": "code",
      "metadata": {
        "id": "mXqk6wyWeEd2",
        "colab_type": "code",
        "colab": {
          "base_uri": "https://localhost:8080/",
          "height": 51
        },
        "outputId": "8653d896-4e1f-43de-cffb-e980114226c6"
      },
      "source": [
        "vocab = list(set(data))\n",
        "vocab.sort()\n",
        "print(\"Vocabulary: \", vocab)\n",
        "print(\"Vocabulary Length: \", len(vocab))"
      ],
      "execution_count": null,
      "outputs": [
        {
          "output_type": "stream",
          "text": [
            "Vocabulary:  ['.', 'a', 'b', 'c', 'd', 'e', 'f', 'g', 'h', 'i', 'j', 'k', 'l', 'm', 'n', 'o', 'p', 'q', 'r', 's', 't', 'u', 'v', 'w', 'x', 'y', 'z']\n",
            "Vocabulary Length:  27\n"
          ],
          "name": "stdout"
        }
      ]
    },
    {
      "cell_type": "code",
      "metadata": {
        "id": "vIKwcnPCeIex",
        "colab_type": "code",
        "colab": {}
      },
      "source": [
        "char_idx = {c: i for i, c in enumerate(vocab)}\n",
        "idx_char = {i: c for i, c in enumerate(vocab)}"
      ],
      "execution_count": null,
      "outputs": []
    },
    {
      "cell_type": "code",
      "metadata": {
        "id": "Y0Sk8Yq3ibAO",
        "colab_type": "code",
        "colab": {}
      },
      "source": [
        "data = data.replace(\".\", \" \")\n",
        "data = data.split()\n",
        "random.shuffle(data)"
      ],
      "execution_count": null,
      "outputs": []
    },
    {
      "cell_type": "markdown",
      "metadata": {
        "id": "85fplCqmmzMQ",
        "colab_type": "text"
      },
      "source": [
        "## Helper Functions"
      ]
    },
    {
      "cell_type": "code",
      "metadata": {
        "id": "i290qCD3pfyE",
        "colab_type": "code",
        "colab": {}
      },
      "source": [
        "def Split(corpus, valid_perc = 2, test_perc = 3):\n",
        "    valid_split = int(len(corpus) * valid_perc / 100)\n",
        "    test_split = int(len(corpus) * test_perc / 100)\n",
        "    train_iterator = corpus[: -(valid_split + test_split)]\n",
        "    test_iterator = corpus[-(valid_split + test_split): -valid_split]\n",
        "    valid_iterator = corpus[-valid_split: ]\n",
        "\n",
        "    return train_iterator, valid_iterator, test_iterator"
      ],
      "execution_count": null,
      "outputs": []
    },
    {
      "cell_type": "code",
      "metadata": {
        "id": "6TsS7ygGeRTp",
        "colab_type": "code",
        "colab": {}
      },
      "source": [
        "def InputTensor(x, vocab_size):\n",
        "    ip_tensor = torch.zeros((len(x), vocab_size))           # [input_tensor] = [seq_len, vocab_size]\n",
        "    for i in range(len(x)):\n",
        "        letter = x[i]\n",
        "        ip_tensor[i][char_idx[letter]] = 1\n",
        "    \n",
        "    return ip_tensor"
      ],
      "execution_count": null,
      "outputs": []
    },
    {
      "cell_type": "code",
      "metadata": {
        "id": "IZbjlPs0eUL7",
        "colab_type": "code",
        "colab": {}
      },
      "source": [
        "def TargetTensor(x):\n",
        "    ids = [char_idx[letter] for letter in x[1:]]\n",
        "    ids.append(char_idx['.'])\n",
        "    target_tensor = torch.LongTensor(ids)                   # [target_tensor] = [seq_len]\n",
        "    \n",
        "    return target_tensor"
      ],
      "execution_count": null,
      "outputs": []
    },
    {
      "cell_type": "code",
      "metadata": {
        "id": "TjYx4l7yeXAO",
        "colab_type": "code",
        "colab": {}
      },
      "source": [
        "def Example(word, vocab_size):\n",
        "    input_tensor = InputTensor(word, vocab_size)\n",
        "    target_tensor = TargetTensor(word)\n",
        "    \n",
        "    return input_tensor, target_tensor"
      ],
      "execution_count": null,
      "outputs": []
    },
    {
      "cell_type": "markdown",
      "metadata": {
        "id": "aIQUjAXtmFRD",
        "colab_type": "text"
      },
      "source": [
        "## Model Definition"
      ]
    },
    {
      "cell_type": "code",
      "metadata": {
        "id": "j7OeAq3LeK5r",
        "colab_type": "code",
        "colab": {}
      },
      "source": [
        "class LSTM(nn.Module):\n",
        "    def __init__(self, input_size, hidden_size, vocab_size, num_layers):\n",
        "        super(LSTM, self).__init__()\n",
        "        self.hidden_size = hidden_size\n",
        "        self.vocab_size = vocab_size\n",
        "        self.num_layers = num_layers\n",
        "        self.lstm = nn.LSTM(input_size, hidden_size, num_layers = num_layers)\n",
        "        self.fc = nn.Linear(hidden_size, vocab_size)\n",
        "        self.dropout = nn.Dropout(0.25)\n",
        "        # We do not use softmax as nn.CrossEntropyLoss() calculates both LogSoftmax and NLLLoss\n",
        "\n",
        "    def forward(self, input, states):                       # [input] = [seq_len, batch_size, input_size]\n",
        "        output, states = self.lstm(input, states)           # [output] = [seq_len, batch_size, hidden_size], [States] = [h_n] = [c_n] = [num_layers*num_directions, batch_size, hidden_size]\n",
        "        output = self.fc(output)                            # [output] = [seq_len, batch_size, vocab_size]\n",
        "        output = self.dropout(output)\n",
        "        \n",
        "        return output, states                               \n",
        "\n",
        "    def initStates(self):\n",
        "        return (torch.zeros((self.num_layers, 1, self.hidden_size)),\n",
        "                torch.zeros((self.num_layers, 1, self.hidden_size)))      # num_directions = batch_size = 1"
      ],
      "execution_count": null,
      "outputs": []
    },
    {
      "cell_type": "markdown",
      "metadata": {
        "id": "bBLP_fSQmNN4",
        "colab_type": "text"
      },
      "source": [
        "## Training and Evaluation Functions"
      ]
    },
    {
      "cell_type": "code",
      "metadata": {
        "id": "QQOHiMTWecv7",
        "colab_type": "code",
        "colab": {}
      },
      "source": [
        "def Train(iterator, model, criterion, optimizer):\n",
        "    model.train()\n",
        "    epoch_loss = 0\n",
        "    for word in iterator:\n",
        "        optimizer.zero_grad()\n",
        "        input_tensor, target_tensor = Example(word, model.vocab_size)   # [input_tensor] = [seq_len, vocab_size]\n",
        "        input_tensor = input_tensor.unsqueeze(1).to(device)             # [input_tensor] = [seq_len, 1, vocab_size] Since batch_size = 1 i.e. one word in a batch\n",
        "        seq_len = input_tensor.shape[0]\n",
        "        states = model.initStates()\n",
        "        states = (states[0].to(device), states[1].to(device))\n",
        "        outputs, _ = model(input_tensor, states)                        # [outputs] = [seq_len, batch_size, vocab_size], Here batch_size = 1\n",
        "        outputs = outputs.view((-1, model.vocab_size))                  # [outputs] = [seq_len * batch_size, vocab_size] Since criterion requires outputs to be a 2D tensor\n",
        "        batch_loss = criterion(outputs, target_tensor.to(device))       # [target_tensor] = [seq_len]\n",
        "        epoch_loss += batch_loss.item()\n",
        "        batch_loss.backward()\n",
        "        optimizer.step()\n",
        "    \n",
        "    return epoch_loss / len(iterator)"
      ],
      "execution_count": null,
      "outputs": []
    },
    {
      "cell_type": "code",
      "metadata": {
        "id": "SaWjq6h3rRWJ",
        "colab_type": "code",
        "colab": {}
      },
      "source": [
        "def Evaluate(iterator, model, criterion):\n",
        "    model.eval()\n",
        "    epoch_loss = 0\n",
        "    for word in iterator:\n",
        "        input_tensor, target_tensor = Example(word, model.vocab_size)\n",
        "        seq_len = input_tensor.shape[0]\n",
        "        input_tensor = input_tensor.unsqueeze(1).to(device)\n",
        "        with torch.no_grad():\n",
        "            states = model.initStates()\n",
        "            states = (states[0].to(device), states[1].to(device))\n",
        "            outputs, _ = model(input_tensor, states)\n",
        "            outputs = outputs.view((-1, model.vocab_size))\n",
        "            batch_loss = criterion(outputs, target_tensor.to(device))\n",
        "            epoch_loss += batch_loss.item()\n",
        "    \n",
        "    return epoch_loss / len(iterator)"
      ],
      "execution_count": null,
      "outputs": []
    },
    {
      "cell_type": "code",
      "metadata": {
        "id": "LhF4jVZH6T1p",
        "colab_type": "code",
        "colab": {}
      },
      "source": [
        "def Epoch_time(start_time, end_time):\n",
        "    elapsed_time = end_time - start_time\n",
        "    elapsed_mins = int(elapsed_time / 60)\n",
        "    elapsed_secs = int(elapsed_time - (elapsed_mins * 60))\n",
        "    return (elapsed_mins, elapsed_secs)"
      ],
      "execution_count": null,
      "outputs": []
    },
    {
      "cell_type": "markdown",
      "metadata": {
        "id": "I9-KnRCAkFWj",
        "colab_type": "text"
      },
      "source": [
        "## Data Iterators, Hyperparameters and Model Initialization"
      ]
    },
    {
      "cell_type": "code",
      "metadata": {
        "id": "HiyNIZBqqzw_",
        "colab_type": "code",
        "colab": {
          "base_uri": "https://localhost:8080/",
          "height": 34
        },
        "outputId": "269acdeb-68ab-4eec-dd58-c1a47fb99327"
      },
      "source": [
        "VALID_PERC = 2\n",
        "TEST_PERC = 3\n",
        "train_iterator, valid_iterator, test_iterator = Split(data, VALID_PERC, TEST_PERC)\n",
        "print(f\"Number of Training examples: {len(train_iterator)} | Number of Testing examples: {len(test_iterator)} | Number of Validation examples: {len(valid_iterator)}\")"
      ],
      "execution_count": null,
      "outputs": [
        {
          "output_type": "stream",
          "text": [
            "Number of Training examples: 1460 | Number of Testing examples: 46 | Number of Validation examples: 30\n"
          ],
          "name": "stdout"
        }
      ]
    },
    {
      "cell_type": "code",
      "metadata": {
        "id": "Z3aRcj6WeZiH",
        "colab_type": "code",
        "colab": {}
      },
      "source": [
        "NUM_EPOCHS = 40\n",
        "LR = 4e-4\n",
        "HIDDEN_DIM = 64\n",
        "NUM_LAYERS = 1\n",
        "VOCAB_SIZE = len(vocab)\n",
        "MODEL_STORE_PATH = \"/content/gdrive/My Drive/Colab/NLP/Char RNNs/Models/Dino_Names_LSTM.pth\""
      ],
      "execution_count": null,
      "outputs": []
    },
    {
      "cell_type": "code",
      "metadata": {
        "id": "m6OPWShuqLOz",
        "colab_type": "code",
        "colab": {}
      },
      "source": [
        "lstm = LSTM(VOCAB_SIZE, HIDDEN_DIM, VOCAB_SIZE, NUM_LAYERS).to(device)\n",
        "optimizer = optim.AdamW(lstm.parameters(), LR)\n",
        "criterion = nn.CrossEntropyLoss()"
      ],
      "execution_count": null,
      "outputs": []
    },
    {
      "cell_type": "code",
      "metadata": {
        "id": "y3RZ0liofD4s",
        "colab_type": "code",
        "colab": {
          "base_uri": "https://localhost:8080/",
          "height": 34
        },
        "outputId": "fc21bc26-c070-4b99-f274-c40cf5bef71b"
      },
      "source": [
        "total_params = sum(p.numel() for p in lstm.parameters())\n",
        "total_learn_params = sum(p.numel() for p in lstm.parameters() if p.requires_grad)\n",
        "print(f\"Total Parameters: {total_params} | Total Learnable Parameters: {total_learn_params}\")"
      ],
      "execution_count": null,
      "outputs": [
        {
          "output_type": "stream",
          "text": [
            "Total Parameters: 25563 | Total Learnable Parameters: 25563\n"
          ],
          "name": "stdout"
        }
      ]
    },
    {
      "cell_type": "markdown",
      "metadata": {
        "id": "2ebuRAri6SGo",
        "colab_type": "text"
      },
      "source": [
        "## Download Pre-Trained Model\n",
        "Run this section instead of the \"Training\" section if you wish to download the pre-trained model instead of training one yourself."
      ]
    },
    {
      "cell_type": "code",
      "metadata": {
        "id": "AQ9mqOl06fEj",
        "colab_type": "code",
        "colab": {}
      },
      "source": [
        "# !wget -O Dino_Names_LSTM.pth https://gitlab.com/rishika2110/weights/-/blob/6e88f0c7acaf5d86d803eca8abb150e0b79f95ef/char_rnns/Dino_Names_LSTM.pth"
      ],
      "execution_count": null,
      "outputs": []
    },
    {
      "cell_type": "code",
      "metadata": {
        "id": "YRqDdwOKCEzn",
        "colab_type": "code",
        "colab": {}
      },
      "source": [
        "# MODEL_STORE_PATH = \"Dino_Names_LSTM.pth\""
      ],
      "execution_count": null,
      "outputs": []
    },
    {
      "cell_type": "markdown",
      "metadata": {
        "id": "e6ppQYYClidi",
        "colab_type": "text"
      },
      "source": [
        "## Training\n",
        "Run this section only if you have mounted G-Drive and want to train the model yourself."
      ]
    },
    {
      "cell_type": "code",
      "metadata": {
        "id": "2htPo5cfej8T",
        "colab_type": "code",
        "colab": {
          "base_uri": "https://localhost:8080/",
          "height": 391
        },
        "outputId": "c9abe2e7-5ab2-4fab-98b3-5fce69afe956"
      },
      "source": [
        "print(f\"Learning Rate: {LR}, Hidden Dimensions: {HIDDEN_DIM}\")\n",
        "train_losses = []\n",
        "valid_losses = []\n",
        "prev_epoch = 1\n",
        "min_losses = [float('inf'), float('inf')]\n",
        "start_time = time.time()\n",
        "for epoch in range(1, NUM_EPOCHS+1):\n",
        "    train_loss = Train(train_iterator, lstm, criterion, optimizer)\n",
        "    train_losses.append(train_loss)\n",
        "    valid_loss = Evaluate(valid_iterator, lstm, criterion)\n",
        "    valid_losses.append(valid_loss)\n",
        "    if valid_loss < min_losses[0]:\n",
        "        min_losses[0] = valid_loss\n",
        "        min_losses[1] = train_loss\n",
        "        torch.save(lstm.state_dict(), MODEL_STORE_PATH)\n",
        "    if epoch % int(NUM_EPOCHS / 10) == 0:\n",
        "        elapsed_time = Epoch_time(start_time, time.time())\n",
        "        print(f\"Time taken for epochs {prev_epoch} to {epoch}: {elapsed_time[0]}m {elapsed_time[1]}s\")\n",
        "        start_time = time.time()\n",
        "        prev_epoch = epoch + 1\n",
        "        print(f\"Training Loss: {train_losses[epoch - 1]:.4f} | Valid Loss: {valid_losses[epoch - 1]:.4f}\")\n",
        "print(f\"Model with Train Loss {min_losses[1]:.4f}, Validation Loss: {min_losses[0]:.4f} was saved.\")"
      ],
      "execution_count": null,
      "outputs": [
        {
          "output_type": "stream",
          "text": [
            "Learning Rate: 0.0004, Hidden Dimensions: 64\n",
            "Time taken for epochs 1 to 4: 0m 21s\n",
            "Training Loss: 2.1718 | Valid Loss: 1.9989\n",
            "Time taken for epochs 5 to 8: 0m 22s\n",
            "Training Loss: 2.0273 | Valid Loss: 1.8248\n",
            "Time taken for epochs 9 to 12: 0m 21s\n",
            "Training Loss: 1.9786 | Valid Loss: 1.7471\n",
            "Time taken for epochs 13 to 16: 0m 21s\n",
            "Training Loss: 1.9169 | Valid Loss: 1.6859\n",
            "Time taken for epochs 17 to 20: 0m 22s\n",
            "Training Loss: 1.8676 | Valid Loss: 1.6638\n",
            "Time taken for epochs 21 to 24: 0m 21s\n",
            "Training Loss: 1.8471 | Valid Loss: 1.6370\n",
            "Time taken for epochs 25 to 28: 0m 22s\n",
            "Training Loss: 1.7983 | Valid Loss: 1.6330\n",
            "Time taken for epochs 29 to 32: 0m 21s\n",
            "Training Loss: 1.7757 | Valid Loss: 1.6175\n",
            "Time taken for epochs 33 to 36: 0m 22s\n",
            "Training Loss: 1.7394 | Valid Loss: 1.6207\n",
            "Time taken for epochs 37 to 40: 0m 22s\n",
            "Training Loss: 1.7210 | Valid Loss: 1.6128\n",
            "Model with Train Loss 1.7426, Validation Loss: 1.6065 was saved.\n"
          ],
          "name": "stdout"
        }
      ]
    },
    {
      "cell_type": "code",
      "metadata": {
        "id": "-4R0EyZu3asK",
        "colab_type": "code",
        "colab": {
          "base_uri": "https://localhost:8080/",
          "height": 295
        },
        "outputId": "f5e960a2-2ad0-46d3-b575-14b1cc832fac"
      },
      "source": [
        "plt.title(\"LSTM: Learning Curves\")\n",
        "plt.xlabel(\"Number of Epochs\")\n",
        "plt.ylabel(\"Cross Entropy Loss\")\n",
        "plt.plot(train_losses, label = \"Training Loss\")\n",
        "plt.plot(valid_losses, label = \"Validation Loss\")\n",
        "plt.legend()\n",
        "plt.savefig(\"/content/gdrive/My Drive/Colab/NLP/Char RNNs/Plots/Dino_Names_LSTM.jpeg\")\n",
        "plt.show()"
      ],
      "execution_count": null,
      "outputs": [
        {
          "output_type": "display_data",
          "data": {
            "image/png": "[encoded data removed]",
            "text/plain": [
              "<Figure size 432x288 with 1 Axes>"
            ]
          },
          "metadata": {
            "tags": [],
            "needs_background": "light"
          }
        }
      ]
    },
    {
      "cell_type": "markdown",
      "metadata": {
        "id": "cqjc59nUlpBN",
        "colab_type": "text"
      },
      "source": [
        "## Sampling"
      ]
    },
    {
      "cell_type": "code",
      "metadata": {
        "id": "0Rk5kbUVheoE",
        "colab_type": "code",
        "colab": {}
      },
      "source": [
        "max_length = 20\n",
        "\n",
        "def sample(start_letter, model):\n",
        "    with torch.no_grad():\n",
        "        start_letter = start_letter.lower()\n",
        "        input = InputTensor(start_letter, model.vocab_size)                             # [input] = [1, vocab_size]\n",
        "        states = model.initStates()\n",
        "        output_name = str(start_letter)\n",
        "        for i in range(max_length):\n",
        "            states = (states[0].to(device), states[1].to(device))\n",
        "            output, states = model(input.unsqueeze(0).to(device), states)               # [output] = [1, 1, vocab_size], [states] = (h_n, c_n) = [1, 1, hidden_size]\n",
        "            output = output.squeeze(1)                                                  # [output] = [1, vocab_size]\n",
        "            probs = F.softmax(output, dim = 1)\n",
        "            ind = probs.argmax(1).item()\n",
        "            if ind == char_idx[\".\"]:\n",
        "                break\n",
        "            else:\n",
        "                letter = idx_char[ind]\n",
        "                output_name += letter\n",
        "            input = InputTensor(letter, model.vocab_size)\n",
        "\n",
        "        return output_name"
      ],
      "execution_count": null,
      "outputs": []
    },
    {
      "cell_type": "code",
      "metadata": {
        "id": "yrAFAFlvhrRQ",
        "colab_type": "code",
        "colab": {}
      },
      "source": [
        "def samples(start_letters, model):\n",
        "    for start_letter in start_letters:\n",
        "        print(f\"Starting character: {start_letter} -> Dino name: {sample(start_letter, model)}\")"
      ],
      "execution_count": null,
      "outputs": []
    },
    {
      "cell_type": "code",
      "metadata": {
        "id": "HlGE2RgenIJm",
        "colab_type": "code",
        "colab": {
          "base_uri": "https://localhost:8080/",
          "height": 476
        },
        "outputId": "084de8c0-61e3-4b85-a3dc-40c12c8ceab3"
      },
      "source": [
        "lstm.load_state_dict(torch.load(MODEL_STORE_PATH))\n",
        "lstm.eval()\n",
        "print(f\"Test Loss of Loaded Model: {Evaluate(test_iterator, lstm, criterion)}\")\n",
        "samples(\"ABCDEFGHIJKLMNOPQRSTUVWXYZ\", lstm)"
      ],
      "execution_count": null,
      "outputs": [
        {
          "output_type": "stream",
          "text": [
            "Test Loss of Loaded Model: 1.4922945836315984\n",
            "Starting character: A -> Dino name: anthosaurus\n",
            "Starting character: B -> Dino name: baranianosaurus\n",
            "Starting character: C -> Dino name: chanosaurus\n",
            "Starting character: D -> Dino name: danosaurus\n",
            "Starting character: E -> Dino name: elaconia\n",
            "Starting character: F -> Dino name: furanosaurus\n",
            "Starting character: G -> Dino name: ganthongosaurus\n",
            "Starting character: H -> Dino name: hangongosaurus\n",
            "Starting character: I -> Dino name: inosaurus\n",
            "Starting character: J -> Dino name: jingongosaurus\n",
            "Starting character: K -> Dino name: kalanosaurus\n",
            "Starting character: L -> Dino name: lachosaurus\n",
            "Starting character: M -> Dino name: manosaurus\n",
            "Starting character: N -> Dino name: nathongosaurus\n",
            "Starting character: O -> Dino name: oratosaurus\n",
            "Starting character: P -> Dino name: palacosaurus\n",
            "Starting character: Q -> Dino name: quantangosaurus\n",
            "Starting character: R -> Dino name: raptorosaurus\n",
            "Starting character: S -> Dino name: saurophalosaurus\n",
            "Starting character: T -> Dino name: taranisaurus\n",
            "Starting character: U -> Dino name: urophosaurus\n",
            "Starting character: V -> Dino name: ventarosaurus\n",
            "Starting character: W -> Dino name: walaningosaurus\n",
            "Starting character: X -> Dino name: xingosaurus\n",
            "Starting character: Y -> Dino name: yulong\n",
            "Starting character: Z -> Dino name: zhungong\n"
          ],
          "name": "stdout"
        }
      ]
    },
    {
      "cell_type": "code",
      "metadata": {
        "id": "iRMlwfXI8Dam",
        "colab_type": "code",
        "colab": {}
      },
      "source": [
        ""
      ],
      "execution_count": null,
      "outputs": []
    }
  ]
}