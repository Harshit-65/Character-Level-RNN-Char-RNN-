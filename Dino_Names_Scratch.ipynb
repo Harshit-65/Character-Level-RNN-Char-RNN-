{
  "nbformat": 4,
  "nbformat_minor": 0,
  "metadata": {
    "colab": {
      "name": "Dino_Names_Scratch.ipynb",
      "provenance": [],
      "collapsed_sections": [
        "tapQt1VGqf93",
        "WXJE8ELy6kXA",
        "XbD4VA-NqlcA",
        "v2q0ZV23qo65",
        "H_nlHFyNqwXl",
        "KQvXsQO2q-u_",
        "AHrH4g1mrCAt",
        "OLqo3SqurHNZ",
        "5U7q0na6F0iu",
        "0HIYkwwcrM2q",
        "niooddVPrPXD"
      ]
    },
    "kernelspec": {
      "name": "python3",
      "display_name": "Python 3"
    },
    "accelerator": "GPU"
  },
  "cells": [
    {
      "cell_type": "markdown",
      "metadata": {
        "id": "c9r3yAxdO9px",
        "colab_type": "text"
      },
      "source": [
        "<center>\n",
        "<a href=\"https://drive.google.com/file/d/1N01IvqI0yxK1CAKi0cfwRTcgvR-_YukL/view?usp=sharing\"> <img align=\"center\" src=\"https://colab.research.google.com/assets/colab-badge.svg\"> </a></center>"
      ]
    },
    {
      "cell_type": "markdown",
      "metadata": {
        "id": "tapQt1VGqf93",
        "colab_type": "text"
      },
      "source": [
        "## Importing Required Libraries"
      ]
    },
    {
      "cell_type": "code",
      "metadata": {
        "id": "htIT7EgIaSQ2",
        "colab_type": "code",
        "colab": {}
      },
      "source": [
        "from io import open\n",
        "import matplotlib.pyplot as plt\n",
        "import numpy as np\n",
        "import random\n",
        "import time\n",
        "import torch\n",
        "import torch.nn as nn\n",
        "import torch.nn.functional as F\n",
        "import torch.optim as optim\n",
        "\n",
        "from google.colab import drive"
      ],
      "execution_count": null,
      "outputs": []
    },
    {
      "cell_type": "code",
      "metadata": {
        "id": "RlLcUWGRctg2",
        "colab_type": "code",
        "colab": {
          "base_uri": "https://localhost:8080/",
          "height": 34
        },
        "outputId": "f7f2b98f-5e82-49db-9162-8f63264e36a5"
      },
      "source": [
        "device = torch.device(\"cuda\" if torch.cuda.is_available() else \"cpu\")\n",
        "print(\"Notebook is running on\", device)"
      ],
      "execution_count": null,
      "outputs": [
        {
          "output_type": "stream",
          "text": [
            "Notebook is running on cuda\n"
          ],
          "name": "stdout"
        }
      ]
    },
    {
      "cell_type": "markdown",
      "metadata": {
        "id": "WXJE8ELy6kXA",
        "colab_type": "text"
      },
      "source": [
        "## Mounting G-Drive\n",
        "You can skip this cell if you don't plan to save the model and training plots. For sampling, you can download the pre-trained model."
      ]
    },
    {
      "cell_type": "code",
      "metadata": {
        "id": "VtZOccKHc8nQ",
        "colab_type": "code",
        "colab": {
          "base_uri": "https://localhost:8080/",
          "height": 122
        },
        "outputId": "dc525152-8873-4936-9e37-a12ad3481224"
      },
      "source": [
        "drive.mount('/content/gdrive')"
      ],
      "execution_count": null,
      "outputs": [
        {
          "output_type": "stream",
          "text": [
            "Go to this URL in a browser: https://accounts.google.com/o/oauth2/auth?client_id=947318989803-6bn6qk8qdgf4n4g3pfee6491hc0brc4i.apps.googleusercontent.com&redirect_uri=urn%3aietf%3awg%3aoauth%3a2.0%3aoob&response_type=code&scope=email%20https%3a%2f%2fwww.googleapis.com%2fauth%2fdocs.test%20https%3a%2f%2fwww.googleapis.com%2fauth%2fdrive%20https%3a%2f%2fwww.googleapis.com%2fauth%2fdrive.photos.readonly%20https%3a%2f%2fwww.googleapis.com%2fauth%2fpeopleapi.readonly\n",
            "\n",
            "Enter your authorization code:\n",
            "··········\n",
            "Mounted at /content/gdrive\n"
          ],
          "name": "stdout"
        }
      ]
    },
    {
      "cell_type": "markdown",
      "metadata": {
        "id": "XbD4VA-NqlcA",
        "colab_type": "text"
      },
      "source": [
        "## Fetching Data\n",
        "Use `!wget -O your_file_name.extension raw_link`\n",
        "\n",
        "To write contents from *raw_link* into *your_file_name.extension*."
      ]
    },
    {
      "cell_type": "code",
      "metadata": {
        "id": "wTNQjJrFqksJ",
        "colab_type": "code",
        "colab": {
          "base_uri": "https://localhost:8080/",
          "height": 289
        },
        "outputId": "cee1056c-4d98-492a-c734-7353b2ebd68c"
      },
      "source": [
        "!wget -O Dino_Names.txt https://github.com/IvLabs/Natural-Language-Processing/raw/master/datasets/Dino_Names.txt"
      ],
      "execution_count": null,
      "outputs": [
        {
          "output_type": "stream",
          "text": [
            "--2020-07-09 15:20:29--  https://github.com/IvLabs/Natural-Language-Processing/raw/master/datasets/Dino_Names.txt\n",
            "Resolving github.com (github.com)... 140.82.118.3\n",
            "Connecting to github.com (github.com)|140.82.118.3|:443... connected.\n",
            "HTTP request sent, awaiting response... 302 Found\n",
            "Location: https://raw.githubusercontent.com/IvLabs/Natural-Language-Processing/master/datasets/Dino_Names.txt [following]\n",
            "--2020-07-09 15:20:29--  https://raw.githubusercontent.com/IvLabs/Natural-Language-Processing/master/datasets/Dino_Names.txt\n",
            "Resolving raw.githubusercontent.com (raw.githubusercontent.com)... 151.101.0.133, 151.101.64.133, 151.101.128.133, ...\n",
            "Connecting to raw.githubusercontent.com (raw.githubusercontent.com)|151.101.0.133|:443... connected.\n",
            "HTTP request sent, awaiting response... 200 OK\n",
            "Length: 19909 (19K) [text/plain]\n",
            "Saving to: ‘Dino_Names.txt’\n",
            "\n",
            "\rDino_Names.txt        0%[                    ]       0  --.-KB/s               \rDino_Names.txt      100%[===================>]  19.44K  --.-KB/s    in 0.003s  \n",
            "\n",
            "2020-07-09 15:20:29 (5.62 MB/s) - ‘Dino_Names.txt’ saved [19909/19909]\n",
            "\n"
          ],
          "name": "stdout"
        }
      ]
    },
    {
      "cell_type": "markdown",
      "metadata": {
        "id": "v2q0ZV23qo65",
        "colab_type": "text"
      },
      "source": [
        "## Data Preprocessing"
      ]
    },
    {
      "cell_type": "code",
      "metadata": {
        "id": "GPy0VLxbdZJP",
        "colab_type": "code",
        "colab": {}
      },
      "source": [
        "FILE_NAME = \"Dino_Names.txt\"\n",
        "data = open(FILE_NAME).read().strip()\n",
        "data = data.lower()\n",
        "data = data.replace(\" \", \"\")\n",
        "data = data.replace(\"\\n\", \".\")"
      ],
      "execution_count": null,
      "outputs": []
    },
    {
      "cell_type": "code",
      "metadata": {
        "id": "CWPQ0665dkna",
        "colab_type": "code",
        "colab": {
          "base_uri": "https://localhost:8080/",
          "height": 34
        },
        "outputId": "7029a527-8c59-4db6-e232-800cc0666e03"
      },
      "source": [
        "print(data[:50])"
      ],
      "execution_count": null,
      "outputs": [
        {
          "output_type": "stream",
          "text": [
            "aachenosaurus.aardonyx.abdallahsaurus.abelisaurus.\n"
          ],
          "name": "stdout"
        }
      ]
    },
    {
      "cell_type": "code",
      "metadata": {
        "id": "mXqk6wyWeEd2",
        "colab_type": "code",
        "colab": {
          "base_uri": "https://localhost:8080/",
          "height": 51
        },
        "outputId": "7e4a016b-292d-4cc2-ddd6-d71d2564762f"
      },
      "source": [
        "vocab = list(set(data))\n",
        "vocab.sort()\n",
        "print(\"Vocabulary: \", vocab)\n",
        "print(\"Vocabulary Length: \", len(vocab))"
      ],
      "execution_count": null,
      "outputs": [
        {
          "output_type": "stream",
          "text": [
            "Vocabulary:  ['.', 'a', 'b', 'c', 'd', 'e', 'f', 'g', 'h', 'i', 'j', 'k', 'l', 'm', 'n', 'o', 'p', 'q', 'r', 's', 't', 'u', 'v', 'w', 'x', 'y', 'z']\n",
            "Vocabulary Length:  27\n"
          ],
          "name": "stdout"
        }
      ]
    },
    {
      "cell_type": "code",
      "metadata": {
        "id": "vIKwcnPCeIex",
        "colab_type": "code",
        "colab": {}
      },
      "source": [
        "char_idx = {c: i for i, c in enumerate(vocab)}\n",
        "idx_char = {i: c for i, c in enumerate(vocab)}"
      ],
      "execution_count": null,
      "outputs": []
    },
    {
      "cell_type": "code",
      "metadata": {
        "id": "Y0Sk8Yq3ibAO",
        "colab_type": "code",
        "colab": {}
      },
      "source": [
        "data = data.replace(\".\", \" \")\n",
        "data = data.split()\n",
        "random.shuffle(data)"
      ],
      "execution_count": null,
      "outputs": []
    },
    {
      "cell_type": "markdown",
      "metadata": {
        "id": "H_nlHFyNqwXl",
        "colab_type": "text"
      },
      "source": [
        "## Helper Functions"
      ]
    },
    {
      "cell_type": "code",
      "metadata": {
        "id": "CVXBjK-kzy_6",
        "colab_type": "code",
        "colab": {}
      },
      "source": [
        "def Split(corpus, valid_perc = 2, test_perc = 3):\n",
        "    valid_split = int(len(corpus) * valid_perc / 100)\n",
        "    test_split = int(len(corpus) * test_perc / 100)\n",
        "    train_iterator = corpus[: -(valid_split + test_split)]\n",
        "    test_iterator = corpus[-(valid_split + test_split): -valid_split]\n",
        "    valid_iterator = corpus[-valid_split: ]\n",
        "\n",
        "    return train_iterator, valid_iterator, test_iterator"
      ],
      "execution_count": null,
      "outputs": []
    },
    {
      "cell_type": "code",
      "metadata": {
        "id": "6TsS7ygGeRTp",
        "colab_type": "code",
        "colab": {}
      },
      "source": [
        "def InputTensor(x, vocab_size):\n",
        "    ip_tensor = torch.zeros((len(x), vocab_size))           # [input_tensor] = [seq_len, vocab_size]\n",
        "    for i in range(len(x)):\n",
        "        letter = x[i]\n",
        "        ip_tensor[i][char_idx[letter]] = 1\n",
        "    \n",
        "    return ip_tensor"
      ],
      "execution_count": null,
      "outputs": []
    },
    {
      "cell_type": "code",
      "metadata": {
        "id": "IZbjlPs0eUL7",
        "colab_type": "code",
        "colab": {}
      },
      "source": [
        "def TargetTensor(x):\n",
        "    ids = [char_idx[letter] for letter in x[1:]]\n",
        "    ids.append(char_idx['.'])\n",
        "    target_tensor = torch.LongTensor(ids)                   # [target_tensor] = [seq_len]\n",
        "    \n",
        "    return target_tensor"
      ],
      "execution_count": null,
      "outputs": []
    },
    {
      "cell_type": "code",
      "metadata": {
        "id": "TjYx4l7yeXAO",
        "colab_type": "code",
        "colab": {}
      },
      "source": [
        "def Example(word, vocab_size):\n",
        "    input_tensor = InputTensor(word, vocab_size)\n",
        "    target_tensor = TargetTensor(word)\n",
        "    \n",
        "    return input_tensor, target_tensor"
      ],
      "execution_count": null,
      "outputs": []
    },
    {
      "cell_type": "markdown",
      "metadata": {
        "id": "KQvXsQO2q-u_",
        "colab_type": "text"
      },
      "source": [
        "## Model Definition"
      ]
    },
    {
      "cell_type": "code",
      "metadata": {
        "id": "j7OeAq3LeK5r",
        "colab_type": "code",
        "colab": {}
      },
      "source": [
        "class Scratch_RNN(nn.Module):\n",
        "    def __init__(self, input_size, hidden_size, vocab_size):\n",
        "        super(Scratch_RNN, self).__init__()\n",
        "        self.hidden_size = hidden_size\n",
        "        self.vocab_size = vocab_size\n",
        "        self.i2h = nn.Linear(input_size + hidden_size, hidden_size)\n",
        "        self.i2o = nn.Linear(input_size + hidden_size, vocab_size)\n",
        "        self.o2o = nn.Linear(hidden_size + vocab_size, vocab_size)\n",
        "        self.dropout = nn.Dropout(0.25)\n",
        "        # We do not use softmax as nn.CrossEntropyLoss() calculates both LogSoftmax and NLLLoss\n",
        "\n",
        "    def forward(self, input, hidden):                       # [input] = [1, input_size], [hidden] = [1, hidden_size]\n",
        "        input_combined = torch.cat((input, hidden), 1)      # [input_combined] = [1, input_size + hidden_size]\n",
        "        hidden = self.i2h(input_combined)                   # [hidden] = [1, hidden_size]\n",
        "        output = self.i2o(input_combined)                   # [output] = [1, vocab_size]\n",
        "        output_combined = torch.cat((hidden, output), 1)    # [output_combined] = [1, vocab_size + hidden_size]\n",
        "        output = self.o2o(output_combined)                  # [output] = [1, vocab_size]\n",
        "        output = self.dropout(output)\n",
        "        \n",
        "        return output, hidden\n",
        "\n",
        "    def initHidden(self):\n",
        "        \n",
        "        return torch.zeros(1, self.hidden_size)             # Since [input] = [1, input_size] and we concat along dim = 1"
      ],
      "execution_count": null,
      "outputs": []
    },
    {
      "cell_type": "markdown",
      "metadata": {
        "id": "AHrH4g1mrCAt",
        "colab_type": "text"
      },
      "source": [
        "## Training and Evaluation Functions"
      ]
    },
    {
      "cell_type": "code",
      "metadata": {
        "id": "QQOHiMTWecv7",
        "colab_type": "code",
        "colab": {}
      },
      "source": [
        "def Train(iterator, model, criterion, optimizer):\n",
        "    model.train()\n",
        "    epoch_loss = 0\n",
        "    for word in iterator:\n",
        "        input_tensor, target_tensor = Example(word, model.vocab_size)   # [input_tensor] = [seq_len, vocab_size]\n",
        "        seq_len = input_tensor.shape[0]\n",
        "        predictions = torch.zeros(seq_len, model.vocab_size).to(device) # [predictions] = [seq_len, vocab_size]\n",
        "        hidden = model.initHidden()\n",
        "        optimizer.zero_grad()\n",
        "        for i in range(seq_len):\n",
        "            input = input_tensor[i].unsqueeze(0).to(device)             # [input] = [1, vocab_size] i.e. One Hot vector\n",
        "            output, hidden = model.forward(input, hidden.to(device))    # [output] = [1, vocab_size]\n",
        "            predictions[i] = output.squeeze(0)\n",
        "        batch_loss = criterion(predictions, target_tensor.to(device))\n",
        "        epoch_loss += batch_loss.item()\n",
        "        batch_loss.backward()\n",
        "        optimizer.step()\n",
        "    \n",
        "    return epoch_loss / len(iterator)"
      ],
      "execution_count": null,
      "outputs": []
    },
    {
      "cell_type": "code",
      "metadata": {
        "id": "SaWjq6h3rRWJ",
        "colab_type": "code",
        "colab": {}
      },
      "source": [
        "def Evaluate(iterator, model, criterion):\n",
        "    model.eval()\n",
        "    epoch_loss = 0\n",
        "    for word in iterator:\n",
        "        input_tensor, target_tensor = Example(word, model.vocab_size)\n",
        "        seq_len = input_tensor.shape[0]\n",
        "        predictions = torch.zeros(seq_len, model.vocab_size).to(device)\n",
        "        hidden = model.initHidden()\n",
        "        with torch.no_grad():\n",
        "            for i in range(seq_len):\n",
        "                input = input_tensor[i].unsqueeze(0).to(device)\n",
        "                output, hidden = model.forward(input, hidden.to(device))\n",
        "                predictions[i] = output.squeeze(0)\n",
        "            batch_loss = criterion(predictions, target_tensor.to(device))\n",
        "            epoch_loss += batch_loss.item()\n",
        "    \n",
        "    return epoch_loss / len(iterator)"
      ],
      "execution_count": null,
      "outputs": []
    },
    {
      "cell_type": "code",
      "metadata": {
        "id": "LhF4jVZH6T1p",
        "colab_type": "code",
        "colab": {}
      },
      "source": [
        "def Epoch_time(start_time, end_time):\n",
        "    elapsed_time = end_time - start_time\n",
        "    elapsed_mins = int(elapsed_time / 60)\n",
        "    elapsed_secs = int(elapsed_time - (elapsed_mins * 60))\n",
        "    return (elapsed_mins, elapsed_secs)"
      ],
      "execution_count": null,
      "outputs": []
    },
    {
      "cell_type": "markdown",
      "metadata": {
        "id": "OLqo3SqurHNZ",
        "colab_type": "text"
      },
      "source": [
        "## Data Iterators, Hyperparameters and Model Initialization"
      ]
    },
    {
      "cell_type": "code",
      "metadata": {
        "id": "MpMxn-bv1CbZ",
        "colab_type": "code",
        "colab": {
          "base_uri": "https://localhost:8080/",
          "height": 34
        },
        "outputId": "3406b8a2-31b4-4dac-c681-c4e95e86d700"
      },
      "source": [
        "VALID_PERC = 2\n",
        "TEST_PERC = 3\n",
        "train_iterator, valid_iterator, test_iterator = Split(data, VALID_PERC, TEST_PERC)\n",
        "print(f\"Number of Training examples: {len(train_iterator)} | Number of Testing examples: {len(test_iterator)} | Number of Validation examples: {len(valid_iterator)}\")"
      ],
      "execution_count": null,
      "outputs": [
        {
          "output_type": "stream",
          "text": [
            "Number of Training examples: 1460 | Number of Testing examples: 46 | Number of Validation examples: 30\n"
          ],
          "name": "stdout"
        }
      ]
    },
    {
      "cell_type": "code",
      "metadata": {
        "id": "Z3aRcj6WeZiH",
        "colab_type": "code",
        "colab": {}
      },
      "source": [
        "NUM_EPOCHS = 40\n",
        "LR = 4e-4\n",
        "HIDDEN_DIM = 64\n",
        "VOCAB_SIZE = len(vocab)\n",
        "MODEL_STORE_PATH = '/content/gdrive/My Drive/Colab/NLP/Char RNNs/Models/Dino_Names_Scratch.pth'"
      ],
      "execution_count": null,
      "outputs": []
    },
    {
      "cell_type": "code",
      "metadata": {
        "id": "m6OPWShuqLOz",
        "colab_type": "code",
        "colab": {}
      },
      "source": [
        "rnn = Scratch_RNN(VOCAB_SIZE, HIDDEN_DIM, VOCAB_SIZE).to(device)\n",
        "optimizer = optim.AdamW(rnn.parameters(), LR)\n",
        "criterion = nn.CrossEntropyLoss()"
      ],
      "execution_count": null,
      "outputs": []
    },
    {
      "cell_type": "code",
      "metadata": {
        "id": "_Xr2iNEFfLDA",
        "colab_type": "code",
        "colab": {
          "base_uri": "https://localhost:8080/",
          "height": 34
        },
        "outputId": "e45b18ea-592a-4dd6-c3c6-7eec8d08e614"
      },
      "source": [
        "total_params = sum(p.numel() for p in rnn.parameters())\n",
        "total_learn_params = sum(p.numel() for p in rnn.parameters() if p.requires_grad)\n",
        "print(f\"Total Parameters: {total_params} | Total Learnable Parameters: {total_learn_params}\")"
      ],
      "execution_count": null,
      "outputs": [
        {
          "output_type": "stream",
          "text": [
            "Total Parameters: 10856 | Total Learnable Parameters: 10856\n"
          ],
          "name": "stdout"
        }
      ]
    },
    {
      "cell_type": "markdown",
      "metadata": {
        "id": "5U7q0na6F0iu",
        "colab_type": "text"
      },
      "source": [
        "## Download Pre-Trained Model\n",
        "Run this section instead of the \"Training\" section if you wish to download the pre-trained model instead of training one yourself."
      ]
    },
    {
      "cell_type": "code",
      "metadata": {
        "id": "9LVqPOYOF28l",
        "colab_type": "code",
        "colab": {}
      },
      "source": [
        "# !wget -O Dino_Names_Scratch.pth https://gitlab.com/rishika2110/weights/-/blob/6e88f0c7acaf5d86d803eca8abb150e0b79f95ef/char_rnns/Dino_Names_Scratch.pth"
      ],
      "execution_count": null,
      "outputs": []
    },
    {
      "cell_type": "code",
      "metadata": {
        "id": "DoEc4aEYF8OZ",
        "colab_type": "code",
        "colab": {}
      },
      "source": [
        "# MODEL_STORE_PATH = \"Dino_Names_Scratch.pth\""
      ],
      "execution_count": null,
      "outputs": []
    },
    {
      "cell_type": "markdown",
      "metadata": {
        "id": "0HIYkwwcrM2q",
        "colab_type": "text"
      },
      "source": [
        "## Training\n",
        "Run this section only if you have mounted G-Drive and want to train the model yourself."
      ]
    },
    {
      "cell_type": "code",
      "metadata": {
        "id": "2htPo5cfej8T",
        "colab_type": "code",
        "colab": {
          "base_uri": "https://localhost:8080/",
          "height": 391
        },
        "outputId": "260bfb20-9e29-4445-8550-95c3ab4f0cd0"
      },
      "source": [
        "print(f\"Learning Rate: {LR}, Hidden Dimensions: {HIDDEN_DIM}\")\n",
        "train_losses = []\n",
        "valid_losses = []\n",
        "prev_epoch = 1\n",
        "min_losses = [float('inf'), float('inf')]\n",
        "start_time = time.time()\n",
        "for epoch in range(1, NUM_EPOCHS+1):\n",
        "    train_loss = Train(train_iterator, rnn, criterion, optimizer)\n",
        "    train_losses.append(train_loss)\n",
        "    valid_loss = Evaluate(valid_iterator, rnn, criterion)\n",
        "    valid_losses.append(valid_loss)\n",
        "    if valid_loss < min_losses[0]:\n",
        "        min_losses[0] = valid_loss\n",
        "        min_losses[1] = train_loss\n",
        "        torch.save(rnn.state_dict(), MODEL_STORE_PATH)\n",
        "    if epoch % int(NUM_EPOCHS / 10) == 0:\n",
        "        elapsed_time = Epoch_time(start_time, time.time())\n",
        "        print(f\"Time taken for epochs {prev_epoch} to {epoch}: {elapsed_time[0]}m {elapsed_time[1]}s\")\n",
        "        start_time = time.time()\n",
        "        prev_epoch = epoch + 1\n",
        "        print(f\"Training Loss: {train_losses[epoch - 1]:.4f} | Valid Loss: {valid_losses[epoch - 1]:.4f}\")\n",
        "print(f\"Model with Train Loss {min_losses[1]:.4f}, Validation Loss: {min_losses[0]:.4f} was saved.\")"
      ],
      "execution_count": null,
      "outputs": [
        {
          "output_type": "stream",
          "text": [
            "Learning Rate: 0.0004, Hidden Dimensions: 64\n",
            "Time taken for epochs 1 to 4: 0m 51s\n",
            "Training Loss: 2.1329 | Valid Loss: 1.9134\n",
            "Time taken for epochs 5 to 8: 0m 48s\n",
            "Training Loss: 2.0648 | Valid Loss: 1.8780\n",
            "Time taken for epochs 9 to 12: 0m 48s\n",
            "Training Loss: 2.0578 | Valid Loss: 1.8698\n",
            "Time taken for epochs 13 to 16: 0m 48s\n",
            "Training Loss: 2.0254 | Valid Loss: 1.8591\n",
            "Time taken for epochs 17 to 20: 0m 48s\n",
            "Training Loss: 2.0180 | Valid Loss: 1.8496\n",
            "Time taken for epochs 21 to 24: 0m 47s\n",
            "Training Loss: 2.0031 | Valid Loss: 1.8493\n",
            "Time taken for epochs 25 to 28: 0m 47s\n",
            "Training Loss: 2.0081 | Valid Loss: 1.8526\n",
            "Time taken for epochs 29 to 32: 0m 47s\n",
            "Training Loss: 2.0010 | Valid Loss: 1.8508\n",
            "Time taken for epochs 33 to 36: 0m 47s\n",
            "Training Loss: 1.9950 | Valid Loss: 1.8496\n",
            "Time taken for epochs 37 to 40: 0m 47s\n",
            "Training Loss: 2.0035 | Valid Loss: 1.8652\n",
            "Model with Train Loss 2.0110, Validation Loss: 1.8492 was saved.\n"
          ],
          "name": "stdout"
        }
      ]
    },
    {
      "cell_type": "code",
      "metadata": {
        "id": "-4R0EyZu3asK",
        "colab_type": "code",
        "colab": {
          "base_uri": "https://localhost:8080/",
          "height": 295
        },
        "outputId": "1a6e9a77-8330-4936-c65c-c4c4c0883b20"
      },
      "source": [
        "plt.title('RNN from scratch: Learning Curves')\n",
        "plt.xlabel('Number of Epochs')\n",
        "plt.ylabel('Cross Entropy Loss')\n",
        "plt.plot(train_losses, label = 'Training Loss')\n",
        "plt.plot(valid_losses, label='Validation Loss')\n",
        "plt.legend()\n",
        "plt.savefig('/content/gdrive/My Drive/Colab/NLP/Char RNNs/Plots/Dino_Names_Scratch.jpeg')\n",
        "plt.show()"
      ],
      "execution_count": null,
      "outputs": [
        {
          "output_type": "display_data",
          "data": {
            "image/png": "[encoded data removed]",
            "text/plain": [
              "<Figure size 432x288 with 1 Axes>"
            ]
          },
          "metadata": {
            "tags": [],
            "needs_background": "light"
          }
        }
      ]
    },
    {
      "cell_type": "markdown",
      "metadata": {
        "id": "niooddVPrPXD",
        "colab_type": "text"
      },
      "source": [
        "## Sampling"
      ]
    },
    {
      "cell_type": "code",
      "metadata": {
        "id": "0Rk5kbUVheoE",
        "colab_type": "code",
        "colab": {}
      },
      "source": [
        "max_length = 20\n",
        "\n",
        "def sample(start_letter, model):\n",
        "    with torch.no_grad():\n",
        "        start_letter = start_letter.lower()\n",
        "        input = InputTensor(start_letter, model.vocab_size)\n",
        "        hidden = model.initHidden()\n",
        "        output_name = str(start_letter)\n",
        "        for i in range(max_length):\n",
        "            output, hidden = model(input.to(device), hidden.to(device))\n",
        "            probs = F.softmax(output, dim = 1)\n",
        "            ind = probs.argmax(1).item()\n",
        "            if ind == char_idx[\".\"]:\n",
        "                break\n",
        "            else:\n",
        "                letter = idx_char[ind]\n",
        "                output_name += letter\n",
        "            input = InputTensor(letter, model.vocab_size)\n",
        "\n",
        "        return output_name"
      ],
      "execution_count": null,
      "outputs": []
    },
    {
      "cell_type": "code",
      "metadata": {
        "id": "yrAFAFlvhrRQ",
        "colab_type": "code",
        "colab": {}
      },
      "source": [
        "def samples(start_letters, model):\n",
        "    for start_letter in start_letters:\n",
        "        print(f\"Starting character: {start_letter} -> Dino name: {sample(start_letter, model)}\")"
      ],
      "execution_count": null,
      "outputs": []
    },
    {
      "cell_type": "code",
      "metadata": {
        "id": "HlGE2RgenIJm",
        "colab_type": "code",
        "colab": {
          "base_uri": "https://localhost:8080/",
          "height": 476
        },
        "outputId": "8110ca98-7fa9-4a8a-a2c3-25e745cf67a6"
      },
      "source": [
        "rnn.load_state_dict(torch.load(MODEL_STORE_PATH))\n",
        "rnn.eval()\n",
        "print(f\"Test Loss of Loaded Model: {Evaluate(test_iterator, rnn, criterion)}\")\n",
        "samples('ABCDEFGHIJKLMNOPQRSTUVWXYZ', rnn)"
      ],
      "execution_count": null,
      "outputs": [
        {
          "output_type": "stream",
          "text": [
            "Test Loss of Loaded Model: 1.7026070136090983\n",
            "Starting character: A -> Dino name: aurus\n",
            "Starting character: B -> Dino name: baratosaurus\n",
            "Starting character: C -> Dino name: ceratops\n",
            "Starting character: D -> Dino name: dongonasaurus\n",
            "Starting character: E -> Dino name: eratops\n",
            "Starting character: F -> Dino name: furusaurus\n",
            "Starting character: G -> Dino name: gongongosaurus\n",
            "Starting character: H -> Dino name: hanosaurus\n",
            "Starting character: I -> Dino name: ianosaurus\n",
            "Starting character: J -> Dino name: jiangosaurus\n",
            "Starting character: K -> Dino name: kelatosaurus\n",
            "Starting character: L -> Dino name: longosaurus\n",
            "Starting character: M -> Dino name: mantonaurus\n",
            "Starting character: N -> Dino name: nianosaurus\n",
            "Starting character: O -> Dino name: oraptos\n",
            "Starting character: P -> Dino name: palosaurus\n",
            "Starting character: Q -> Dino name: quanosaurus\n",
            "Starting character: R -> Dino name: raptoraptos\n",
            "Starting character: S -> Dino name: saurus\n",
            "Starting character: T -> Dino name: tanosaurus\n",
            "Starting character: U -> Dino name: urisaurus\n",
            "Starting character: V -> Dino name: velatora\n",
            "Starting character: W -> Dino name: walesaurus\n",
            "Starting character: X -> Dino name: xiangosaurus\n",
            "Starting character: Y -> Dino name: yurusaurus\n",
            "Starting character: Z -> Dino name: zhangosaurus\n"
          ],
          "name": "stdout"
        }
      ]
    },
    {
      "cell_type": "markdown",
      "metadata": {
        "id": "pxpiwfb9Duv6",
        "colab_type": "text"
      },
      "source": [
        "## References:\n",
        "\n",
        "\n",
        "* [Generating Names with a Character-Level RNN (PyTorch)](https://pytorch.org/tutorials/intermediate/char_rnn_generation_tutorial.html)\n",
        "\n"
      ]
    }
  ]
}